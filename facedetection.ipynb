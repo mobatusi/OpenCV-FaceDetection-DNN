{
 "cells": [
  {
   "cell_type": "markdown",
   "id": "aa4adac8",
   "metadata": {},
   "source": [
    "### Task 1: Import Libraries"
   ]
  },
  {
   "cell_type": "code",
   "execution_count": null,
   "id": "d3dbf33d",
   "metadata": {},
   "outputs": [],
   "source": []
  },
  {
   "cell_type": "markdown",
   "id": "f4255932",
   "metadata": {},
   "source": [
    "### Task 2: Download the Image"
   ]
  },
  {
   "cell_type": "code",
   "execution_count": null,
   "id": "9c6d413a",
   "metadata": {},
   "outputs": [],
   "source": []
  },
  {
   "cell_type": "markdown",
   "id": "07fe27a7",
   "metadata": {},
   "source": [
    "### Step 3: Loading the DNN network"
   ]
  },
  {
   "cell_type": "code",
   "execution_count": null,
   "id": "e5b454b6",
   "metadata": {},
   "outputs": [],
   "source": []
  },
  {
   "cell_type": "markdown",
   "id": "0f1ec9de",
   "metadata": {},
   "source": [
    "### Task 4: Prepare the Image and Run the Network"
   ]
  },
  {
   "cell_type": "code",
   "execution_count": null,
   "id": "8754438b",
   "metadata": {},
   "outputs": [],
   "source": []
  },
  {
   "cell_type": "markdown",
   "id": "1f10e847",
   "metadata": {},
   "source": [
    "### Task 5: Label and Visualize the Image"
   ]
  },
  {
   "cell_type": "code",
   "execution_count": null,
   "id": "869bae9e",
   "metadata": {},
   "outputs": [],
   "source": []
  },
  {
   "cell_type": "markdown",
   "id": "5f17c225",
   "metadata": {},
   "source": [
    "### Task 6: Run Performance Test"
   ]
  },
  {
   "cell_type": "code",
   "execution_count": null,
   "id": "d22f4aaa",
   "metadata": {},
   "outputs": [],
   "source": [
    "# Initialize the resnet_results here: \n",
    "\n",
    "for i in range(0, detections.shape[2]):\n",
    "    confidence = detections[0, 0, i, 2]\n",
    "    if confidence > 0.5:\n",
    "        box = detections[0, 0, i, 3:7] * np.array([w, h, w, h])\n",
    "        (startX, startY, endX, endY) = box.astype(\"int\")\n",
    "        # Add your code to consolidate the resnet_results array here: \n",
    "\n",
    "        text = \"{:.2f}%\".format(confidence * 100)\n",
    "        y = startY - 10 if startY - 10 > 10 else startY + 10\n",
    "        cv2.rectangle(image, (startX, startY), (endX, endY), (0, 0, 255), 2)\n",
    "        cv2.putText(image, text, (startX, y),\n",
    "        cv2.FONT_HERSHEY_SIMPLEX, 0.45, (0, 0, 255), 2)\n",
    "\n",
    "plt.imshow(image)\n",
    "plt.show()\n",
    "\n",
    "# Add the code to measure the performance of model here: \n"
   ]
  },
  {
   "cell_type": "markdown",
   "id": "a1f451ee",
   "metadata": {},
   "source": [
    "### Task 7a: Prepare the Image and Run the Detector"
   ]
  },
  {
   "cell_type": "code",
   "execution_count": null,
   "id": "fbdc6de2",
   "metadata": {},
   "outputs": [],
   "source": []
  },
  {
   "cell_type": "markdown",
   "id": "8164682d",
   "metadata": {},
   "source": [
    "### Task 7b: Run the Detector"
   ]
  },
  {
   "cell_type": "code",
   "execution_count": null,
   "id": "18faa3fa",
   "metadata": {},
   "outputs": [],
   "source": []
  },
  {
   "cell_type": "markdown",
   "id": "23a9dc66",
   "metadata": {},
   "source": [
    "### Task 8: Label the Image and Visualize the Result"
   ]
  },
  {
   "cell_type": "code",
   "execution_count": null,
   "id": "2abb2385",
   "metadata": {},
   "outputs": [],
   "source": []
  },
  {
   "cell_type": "markdown",
   "id": "73c93a48",
   "metadata": {},
   "source": [
    "### Task 9: Run Performance Test"
   ]
  },
  {
   "cell_type": "code",
   "execution_count": null,
   "id": "67fab70b",
   "metadata": {},
   "outputs": [],
   "source": [
    "# Initialize dlib_results here: \n",
    "\n",
    "for result in faces:\n",
    "    x = result.left()\n",
    "    y = result.top()\n",
    "    x1 = result.right()\n",
    "    y1 = result.bottom()\n",
    "    # Add your code to consolidate the array here: \n",
    "\n",
    "    cv2.rectangle(image, (x, y), (x1, y1), (0, 0, 255), 2)\n",
    "plt.imshow(image)\n",
    "plt.show()\n",
    "\n",
    "# Add the code to measure the performance of model here: \n",
    "testResults.test(dlib_results)"
   ]
  }
 ],
 "metadata": {
  "kernelspec": {
   "display_name": "Python 3",
   "language": "python",
   "name": "python3"
  },
  "language_info": {
   "codemirror_mode": {
    "name": "ipython",
    "version": 3
   },
   "file_extension": ".py",
   "mimetype": "text/x-python",
   "name": "python",
   "nbconvert_exporter": "python",
   "pygments_lexer": "ipython3",
   "version": "3.8.10"
  },
  "vscode": {
   "interpreter": {
    "hash": "e7370f93d1d0cde622a1f8e1c04877d8463912d04d973331ad4851f04de6915a"
   }
  }
 },
 "nbformat": 4,
 "nbformat_minor": 5
}
